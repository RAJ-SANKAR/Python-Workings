{
 "cells": [
  {
   "cell_type": "markdown",
   "id": "c7a4ee14",
   "metadata": {},
   "source": [
    "2.9.21"
   ]
  },
  {
   "cell_type": "code",
   "execution_count": 1,
   "id": "328538ae",
   "metadata": {},
   "outputs": [
    {
     "name": "stdout",
     "output_type": "stream",
     "text": [
      "[1, 2, 3]\n"
     ]
    }
   ],
   "source": [
    "a=[1,2,3]\n",
    "print(a)"
   ]
  },
  {
   "cell_type": "code",
   "execution_count": 2,
   "id": "e45c6a0f",
   "metadata": {},
   "outputs": [
    {
     "data": {
      "text/plain": [
       "5"
      ]
     },
     "execution_count": 2,
     "metadata": {},
     "output_type": "execute_result"
    }
   ],
   "source": [
    "2+3"
   ]
  },
  {
   "cell_type": "code",
   "execution_count": 3,
   "id": "0388691d",
   "metadata": {},
   "outputs": [
    {
     "data": {
      "text/plain": [
       "24"
      ]
     },
     "execution_count": 3,
     "metadata": {},
     "output_type": "execute_result"
    }
   ],
   "source": [
    "4*6"
   ]
  },
  {
   "cell_type": "code",
   "execution_count": 4,
   "id": "8182a9ef",
   "metadata": {},
   "outputs": [
    {
     "data": {
      "text/plain": [
       "2.0"
      ]
     },
     "execution_count": 4,
     "metadata": {},
     "output_type": "execute_result"
    }
   ],
   "source": [
    "8/4"
   ]
  },
  {
   "cell_type": "code",
   "execution_count": 5,
   "id": "d5aa7f4c",
   "metadata": {},
   "outputs": [
    {
     "data": {
      "text/plain": [
       "1.25"
      ]
     },
     "execution_count": 5,
     "metadata": {},
     "output_type": "execute_result"
    }
   ],
   "source": [
    "2.5/2"
   ]
  },
  {
   "cell_type": "code",
   "execution_count": 6,
   "id": "3a99b9cf",
   "metadata": {
    "scrolled": true
   },
   "outputs": [
    {
     "data": {
      "text/plain": [
       "14"
      ]
     },
     "execution_count": 6,
     "metadata": {},
     "output_type": "execute_result"
    }
   ],
   "source": [
    "8+2*3"
   ]
  },
  {
   "cell_type": "code",
   "execution_count": 7,
   "id": "e328d1c6",
   "metadata": {},
   "outputs": [
    {
     "data": {
      "text/plain": [
       "16"
      ]
     },
     "execution_count": 7,
     "metadata": {},
     "output_type": "execute_result"
    }
   ],
   "source": [
    "2*2*2*2"
   ]
  },
  {
   "cell_type": "code",
   "execution_count": 8,
   "id": "fc3bec54",
   "metadata": {},
   "outputs": [
    {
     "data": {
      "text/plain": [
       "16"
      ]
     },
     "execution_count": 8,
     "metadata": {},
     "output_type": "execute_result"
    }
   ],
   "source": [
    "2**4"
   ]
  },
  {
   "cell_type": "code",
   "execution_count": 9,
   "id": "d5efaa5f",
   "metadata": {},
   "outputs": [
    {
     "data": {
      "text/plain": [
       "1"
      ]
     },
     "execution_count": 9,
     "metadata": {},
     "output_type": "execute_result"
    }
   ],
   "source": [
    "10%3"
   ]
  },
  {
   "cell_type": "code",
   "execution_count": 10,
   "id": "9750ccac",
   "metadata": {},
   "outputs": [
    {
     "data": {
      "text/plain": [
       "'raj sankar'"
      ]
     },
     "execution_count": 10,
     "metadata": {},
     "output_type": "execute_result"
    }
   ],
   "source": [
    "'raj' + ' sankar'"
   ]
  },
  {
   "cell_type": "code",
   "execution_count": 11,
   "id": "b3892e81",
   "metadata": {},
   "outputs": [
    {
     "data": {
      "text/plain": [
       "' i am batman i am batman i am batman i am batman i am batman i am batman i am batman'"
      ]
     },
     "execution_count": 11,
     "metadata": {},
     "output_type": "execute_result"
    }
   ],
   "source": [
    "7*' i am batman'"
   ]
  },
  {
   "cell_type": "code",
   "execution_count": 12,
   "id": "22fab63a",
   "metadata": {},
   "outputs": [
    {
     "name": "stdout",
     "output_type": "stream",
     "text": [
      "hello \\ navjot\n"
     ]
    }
   ],
   "source": [
    "print('hello \\\\ navjot')"
   ]
  },
  {
   "cell_type": "code",
   "execution_count": 13,
   "id": "7a974787",
   "metadata": {},
   "outputs": [
    {
     "name": "stdout",
     "output_type": "stream",
     "text": [
      "hello world\n"
     ]
    }
   ],
   "source": [
    "print(r'hello world')"
   ]
  },
  {
   "cell_type": "code",
   "execution_count": 14,
   "id": "766c1210",
   "metadata": {},
   "outputs": [],
   "source": [
    "X=2"
   ]
  },
  {
   "cell_type": "code",
   "execution_count": 15,
   "id": "d4263dec",
   "metadata": {},
   "outputs": [],
   "source": [
    "Y=3"
   ]
  },
  {
   "cell_type": "code",
   "execution_count": 16,
   "id": "29c2e399",
   "metadata": {},
   "outputs": [
    {
     "data": {
      "text/plain": [
       "5"
      ]
     },
     "execution_count": 16,
     "metadata": {},
     "output_type": "execute_result"
    }
   ],
   "source": [
    "X+Y"
   ]
  },
  {
   "cell_type": "code",
   "execution_count": 17,
   "id": "52d9e893",
   "metadata": {},
   "outputs": [
    {
     "data": {
      "text/plain": [
       "4.45"
      ]
     },
     "execution_count": 17,
     "metadata": {},
     "output_type": "execute_result"
    }
   ],
   "source": [
    "v=2.45\n",
    "X+v"
   ]
  },
  {
   "cell_type": "code",
   "execution_count": 18,
   "id": "4d37547f",
   "metadata": {},
   "outputs": [
    {
     "ename": "TypeError",
     "evalue": "can only concatenate str (not \"int\") to str",
     "output_type": "error",
     "traceback": [
      "\u001b[0;31m---------------------------------------------------------------------------\u001b[0m",
      "\u001b[0;31mTypeError\u001b[0m                                 Traceback (most recent call last)",
      "\u001b[0;32m<ipython-input-18-4bcf0a57c55e>\u001b[0m in \u001b[0;36m<module>\u001b[0;34m\u001b[0m\n\u001b[1;32m      1\u001b[0m \u001b[0ms\u001b[0m\u001b[0;34m=\u001b[0m\u001b[0;34m'raj'\u001b[0m\u001b[0;34m\u001b[0m\u001b[0;34m\u001b[0m\u001b[0m\n\u001b[0;32m----> 2\u001b[0;31m \u001b[0mprint\u001b[0m\u001b[0;34m(\u001b[0m\u001b[0ms\u001b[0m\u001b[0;34m+\u001b[0m\u001b[0mX\u001b[0m\u001b[0;34m)\u001b[0m\u001b[0;34m\u001b[0m\u001b[0;34m\u001b[0m\u001b[0m\n\u001b[0m",
      "\u001b[0;31mTypeError\u001b[0m: can only concatenate str (not \"int\") to str"
     ]
    }
   ],
   "source": [
    "s='raj'\n",
    "print(s+X)\n"
   ]
  },
  {
   "cell_type": "code",
   "execution_count": 19,
   "id": "a89db65d",
   "metadata": {},
   "outputs": [
    {
     "name": "stdout",
     "output_type": "stream",
     "text": [
      "<class 'tuple'>\n",
      "raj 2\n"
     ]
    }
   ],
   "source": [
    "print(type((s,X)))\n",
    "print(s,X)"
   ]
  },
  {
   "cell_type": "code",
   "execution_count": 20,
   "id": "c05b4f2e",
   "metadata": {},
   "outputs": [
    {
     "data": {
      "text/plain": [
       "8"
      ]
     },
     "execution_count": 20,
     "metadata": {},
     "output_type": "execute_result"
    }
   ],
   "source": [
    "X**3"
   ]
  },
  {
   "cell_type": "code",
   "execution_count": 21,
   "id": "9b1d412f",
   "metadata": {},
   "outputs": [
    {
     "data": {
      "text/plain": [
       "16"
      ]
     },
     "execution_count": 21,
     "metadata": {},
     "output_type": "execute_result"
    }
   ],
   "source": [
    "_+X**3"
   ]
  },
  {
   "cell_type": "code",
   "execution_count": 22,
   "id": "340901f8",
   "metadata": {},
   "outputs": [
    {
     "data": {
      "text/plain": [
       "205"
      ]
     },
     "execution_count": 22,
     "metadata": {},
     "output_type": "execute_result"
    }
   ],
   "source": [
    "_+Y**3*7"
   ]
  },
  {
   "cell_type": "code",
   "execution_count": 23,
   "id": "1ea1c8ee",
   "metadata": {},
   "outputs": [],
   "source": [
    "name = 'Raj'"
   ]
  },
  {
   "cell_type": "code",
   "execution_count": 24,
   "id": "e6a67a9d",
   "metadata": {},
   "outputs": [
    {
     "data": {
      "text/plain": [
       "'Raj Sankar'"
      ]
     },
     "execution_count": 24,
     "metadata": {},
     "output_type": "execute_result"
    }
   ],
   "source": [
    "name = name + ' Sankar'\n",
    "name"
   ]
  },
  {
   "cell_type": "code",
   "execution_count": 25,
   "id": "e3aa5b62",
   "metadata": {},
   "outputs": [
    {
     "data": {
      "text/plain": [
       "'k'"
      ]
     },
     "execution_count": 25,
     "metadata": {},
     "output_type": "execute_result"
    }
   ],
   "source": [
    "name[7]"
   ]
  },
  {
   "cell_type": "code",
   "execution_count": 26,
   "id": "76fe2348",
   "metadata": {},
   "outputs": [
    {
     "data": {
      "text/plain": [
       "'S'"
      ]
     },
     "execution_count": 26,
     "metadata": {},
     "output_type": "execute_result"
    }
   ],
   "source": [
    "name[-6]"
   ]
  },
  {
   "cell_type": "code",
   "execution_count": 27,
   "id": "d7da7dc0",
   "metadata": {},
   "outputs": [
    {
     "data": {
      "text/plain": [
       "'Sankar'"
      ]
     },
     "execution_count": 27,
     "metadata": {},
     "output_type": "execute_result"
    }
   ],
   "source": [
    "name[4:]"
   ]
  },
  {
   "cell_type": "code",
   "execution_count": 28,
   "id": "7763d13a",
   "metadata": {},
   "outputs": [],
   "source": [
    "nums = [12,23,37,95,14]"
   ]
  },
  {
   "cell_type": "code",
   "execution_count": 29,
   "id": "3ac05cba",
   "metadata": {},
   "outputs": [
    {
     "data": {
      "text/plain": [
       "[12, 23, 37, 95, 14]"
      ]
     },
     "execution_count": 29,
     "metadata": {},
     "output_type": "execute_result"
    }
   ],
   "source": [
    "nums"
   ]
  },
  {
   "cell_type": "code",
   "execution_count": 30,
   "id": "03c0d48c",
   "metadata": {},
   "outputs": [
    {
     "data": {
      "text/plain": [
       "95"
      ]
     },
     "execution_count": 30,
     "metadata": {},
     "output_type": "execute_result"
    }
   ],
   "source": [
    "nums[3]"
   ]
  },
  {
   "cell_type": "code",
   "execution_count": 31,
   "id": "d1ab60f2",
   "metadata": {},
   "outputs": [
    {
     "data": {
      "text/plain": [
       "[37, 95, 14]"
      ]
     },
     "execution_count": 31,
     "metadata": {},
     "output_type": "execute_result"
    }
   ],
   "source": [
    "nums[2:]"
   ]
  },
  {
   "cell_type": "code",
   "execution_count": 32,
   "id": "9166da05",
   "metadata": {},
   "outputs": [],
   "source": [
    "names = ['raj','sankar','vel']"
   ]
  },
  {
   "cell_type": "code",
   "execution_count": 33,
   "id": "8a3276a7",
   "metadata": {},
   "outputs": [
    {
     "data": {
      "text/plain": [
       "['raj', 'sankar', 'vel']"
      ]
     },
     "execution_count": 33,
     "metadata": {},
     "output_type": "execute_result"
    }
   ],
   "source": [
    "names"
   ]
  },
  {
   "cell_type": "code",
   "execution_count": 34,
   "id": "53655f2e",
   "metadata": {},
   "outputs": [],
   "source": [
    "ba=nums + names"
   ]
  },
  {
   "cell_type": "code",
   "execution_count": 35,
   "id": "ea8abfee",
   "metadata": {},
   "outputs": [
    {
     "data": {
      "text/plain": [
       "[12, 23, 37, 95, 14, 'raj', 'sankar', 'vel']"
      ]
     },
     "execution_count": 35,
     "metadata": {},
     "output_type": "execute_result"
    }
   ],
   "source": [
    "ba"
   ]
  },
  {
   "cell_type": "code",
   "execution_count": 36,
   "id": "c1447f7d",
   "metadata": {},
   "outputs": [],
   "source": [
    "\n",
    "ca = [nums,names]"
   ]
  },
  {
   "cell_type": "code",
   "execution_count": 37,
   "id": "af982d37",
   "metadata": {},
   "outputs": [
    {
     "data": {
      "text/plain": [
       "[[12, 23, 37, 95, 14], ['raj', 'sankar', 'vel']]"
      ]
     },
     "execution_count": 37,
     "metadata": {},
     "output_type": "execute_result"
    }
   ],
   "source": [
    "ca"
   ]
  },
  {
   "cell_type": "code",
   "execution_count": 38,
   "id": "41afbd20",
   "metadata": {},
   "outputs": [],
   "source": [
    "nums.append(45)"
   ]
  },
  {
   "cell_type": "code",
   "execution_count": 39,
   "id": "61facc64",
   "metadata": {},
   "outputs": [
    {
     "data": {
      "text/plain": [
       "[12, 23, 37, 95, 14, 45]"
      ]
     },
     "execution_count": 39,
     "metadata": {},
     "output_type": "execute_result"
    }
   ],
   "source": [
    "nums"
   ]
  },
  {
   "cell_type": "code",
   "execution_count": 40,
   "id": "dc78a5d1",
   "metadata": {},
   "outputs": [],
   "source": [
    "nums.insert(9,3)"
   ]
  },
  {
   "cell_type": "code",
   "execution_count": 41,
   "id": "413287d9",
   "metadata": {},
   "outputs": [
    {
     "data": {
      "text/plain": [
       "[12, 23, 37, 95, 14, 45, 3]"
      ]
     },
     "execution_count": 41,
     "metadata": {},
     "output_type": "execute_result"
    }
   ],
   "source": [
    "nums"
   ]
  },
  {
   "cell_type": "code",
   "execution_count": 42,
   "id": "18e00d89",
   "metadata": {},
   "outputs": [
    {
     "data": {
      "text/plain": [
       "[12, 23, 37, 95, 14, 45]"
      ]
     },
     "execution_count": 42,
     "metadata": {},
     "output_type": "execute_result"
    }
   ],
   "source": [
    "nums.remove(3)\n",
    "nums"
   ]
  },
  {
   "cell_type": "code",
   "execution_count": 43,
   "id": "5850cd0a",
   "metadata": {},
   "outputs": [
    {
     "data": {
      "text/plain": [
       "45"
      ]
     },
     "execution_count": 43,
     "metadata": {},
     "output_type": "execute_result"
    }
   ],
   "source": [
    "#pop shows the number which was removed from the list\n",
    "nums.pop()"
   ]
  },
  {
   "cell_type": "code",
   "execution_count": 44,
   "id": "b0e24c2a",
   "metadata": {},
   "outputs": [],
   "source": [
    "nums.extend([23,44,58,45])"
   ]
  },
  {
   "cell_type": "code",
   "execution_count": 45,
   "id": "dae6fbb4",
   "metadata": {},
   "outputs": [
    {
     "data": {
      "text/plain": [
       "[12, 23, 37, 95, 14, 23, 44, 58, 45]"
      ]
     },
     "execution_count": 45,
     "metadata": {},
     "output_type": "execute_result"
    }
   ],
   "source": [
    "nums"
   ]
  },
  {
   "cell_type": "code",
   "execution_count": 46,
   "id": "81300cc8",
   "metadata": {},
   "outputs": [
    {
     "name": "stdout",
     "output_type": "stream",
     "text": [
      "5\n"
     ]
    }
   ],
   "source": [
    "x=2\n",
    "y=3\n",
    "z=x+y\n",
    "print(z)"
   ]
  },
  {
   "cell_type": "markdown",
   "id": "893d16c5",
   "metadata": {},
   "source": [
    "3.9.2021"
   ]
  },
  {
   "cell_type": "code",
   "execution_count": 47,
   "id": "fd867d8f",
   "metadata": {},
   "outputs": [
    {
     "data": {
      "text/plain": [
       "[12, 23, 37, 95, 14, 23, 44, 58, 45]"
      ]
     },
     "execution_count": 47,
     "metadata": {},
     "output_type": "execute_result"
    }
   ],
   "source": [
    "nums"
   ]
  },
  {
   "cell_type": "code",
   "execution_count": 48,
   "id": "e4d5e24f",
   "metadata": {},
   "outputs": [],
   "source": [
    "nums.extend([33,45,59,69,70])"
   ]
  },
  {
   "cell_type": "code",
   "execution_count": 49,
   "id": "95be60f8",
   "metadata": {},
   "outputs": [
    {
     "data": {
      "text/plain": [
       "[12, 23, 37, 95, 14, 23, 44, 58, 45, 33, 45, 59, 69, 70]"
      ]
     },
     "execution_count": 49,
     "metadata": {},
     "output_type": "execute_result"
    }
   ],
   "source": [
    "nums"
   ]
  },
  {
   "cell_type": "code",
   "execution_count": 52,
   "id": "63247807",
   "metadata": {},
   "outputs": [
    {
     "data": {
      "text/plain": [
       "95"
      ]
     },
     "execution_count": 52,
     "metadata": {},
     "output_type": "execute_result"
    }
   ],
   "source": [
    "max(nums)"
   ]
  },
  {
   "cell_type": "code",
   "execution_count": 54,
   "id": "1bb2d48c",
   "metadata": {},
   "outputs": [
    {
     "data": {
      "text/plain": [
       "12"
      ]
     },
     "execution_count": 54,
     "metadata": {},
     "output_type": "execute_result"
    }
   ],
   "source": [
    "min(nums)"
   ]
  },
  {
   "cell_type": "code",
   "execution_count": 56,
   "id": "ff30fc48",
   "metadata": {},
   "outputs": [],
   "source": [
    "nums.sort()"
   ]
  },
  {
   "cell_type": "code",
   "execution_count": 57,
   "id": "4591170c",
   "metadata": {},
   "outputs": [
    {
     "data": {
      "text/plain": [
       "[12, 14, 23, 23, 33, 37, 44, 45, 45, 58, 59, 69, 70, 95]"
      ]
     },
     "execution_count": 57,
     "metadata": {},
     "output_type": "execute_result"
    }
   ],
   "source": [
    "nums"
   ]
  },
  {
   "cell_type": "code",
   "execution_count": 58,
   "id": "3fa32743",
   "metadata": {},
   "outputs": [],
   "source": [
    "nums.sort(reverse=True)"
   ]
  },
  {
   "cell_type": "code",
   "execution_count": 59,
   "id": "43640472",
   "metadata": {},
   "outputs": [
    {
     "data": {
      "text/plain": [
       "[95, 70, 69, 59, 58, 45, 45, 44, 37, 33, 23, 23, 14, 12]"
      ]
     },
     "execution_count": 59,
     "metadata": {},
     "output_type": "execute_result"
    }
   ],
   "source": [
    "nums"
   ]
  },
  {
   "cell_type": "code",
   "execution_count": 60,
   "id": "b4f5919d",
   "metadata": {},
   "outputs": [
    {
     "data": {
      "text/plain": [
       "3"
      ]
     },
     "execution_count": 60,
     "metadata": {},
     "output_type": "execute_result"
    }
   ],
   "source": [
    "tup=(23,3,4,5,4,3,56,5,4)\n",
    "tup[1]"
   ]
  },
  {
   "cell_type": "code",
   "execution_count": 61,
   "id": "96ca56ec",
   "metadata": {},
   "outputs": [
    {
     "data": {
      "text/plain": [
       "3"
      ]
     },
     "execution_count": 61,
     "metadata": {},
     "output_type": "execute_result"
    }
   ],
   "source": [
    "tup[5]"
   ]
  },
  {
   "cell_type": "code",
   "execution_count": 62,
   "id": "7ee04d56",
   "metadata": {},
   "outputs": [
    {
     "data": {
      "text/plain": [
       "True"
      ]
     },
     "execution_count": 62,
     "metadata": {},
     "output_type": "execute_result"
    }
   ],
   "source": [
    "tup[5]==3"
   ]
  },
  {
   "cell_type": "code",
   "execution_count": 63,
   "id": "58f9dcf3",
   "metadata": {},
   "outputs": [
    {
     "data": {
      "text/plain": [
       "(23, 3, 4, 5, 4, 3, 56, 5, 4)"
      ]
     },
     "execution_count": 63,
     "metadata": {},
     "output_type": "execute_result"
    }
   ],
   "source": [
    "tup"
   ]
  },
  {
   "cell_type": "code",
   "execution_count": 64,
   "id": "5ad6e34b",
   "metadata": {},
   "outputs": [],
   "source": [
    "a=18"
   ]
  },
  {
   "cell_type": "code",
   "execution_count": 65,
   "id": "82bb5094",
   "metadata": {},
   "outputs": [],
   "source": [
    "tu=tup+(a,)"
   ]
  },
  {
   "cell_type": "code",
   "execution_count": 66,
   "id": "f7e70056",
   "metadata": {},
   "outputs": [
    {
     "data": {
      "text/plain": [
       "(23, 3, 4, 5, 4, 3, 56, 5, 4, 18)"
      ]
     },
     "execution_count": 66,
     "metadata": {},
     "output_type": "execute_result"
    }
   ],
   "source": [
    "tu"
   ]
  },
  {
   "cell_type": "code",
   "execution_count": 67,
   "id": "2463753b",
   "metadata": {},
   "outputs": [
    {
     "data": {
      "text/plain": [
       "tuple"
      ]
     },
     "execution_count": 67,
     "metadata": {},
     "output_type": "execute_result"
    }
   ],
   "source": [
    "type(tu)"
   ]
  },
  {
   "cell_type": "code",
   "execution_count": 68,
   "id": "4e3bf2ee",
   "metadata": {},
   "outputs": [
    {
     "name": "stdout",
     "output_type": "stream",
     "text": [
      "hello\n"
     ]
    }
   ],
   "source": [
    "a='hello'\n",
    "print(a)"
   ]
  },
  {
   "cell_type": "code",
   "execution_count": 69,
   "id": "d1032634",
   "metadata": {},
   "outputs": [],
   "source": [
    "a=('hello raj')"
   ]
  },
  {
   "cell_type": "code",
   "execution_count": 70,
   "id": "e2c1ae3d",
   "metadata": {},
   "outputs": [
    {
     "name": "stdout",
     "output_type": "stream",
     "text": [
      "hello raj\n"
     ]
    },
    {
     "data": {
      "text/plain": [
       "str"
      ]
     },
     "execution_count": 70,
     "metadata": {},
     "output_type": "execute_result"
    }
   ],
   "source": [
    "print(a)\n",
    "type(a)"
   ]
  },
  {
   "cell_type": "code",
   "execution_count": 71,
   "id": "e85cb434",
   "metadata": {},
   "outputs": [
    {
     "name": "stdout",
     "output_type": "stream",
     "text": [
      "(22, 3, 41, 14, 21)\n"
     ]
    }
   ],
   "source": [
    "s=(22,3,41,14,21)\n",
    "print(s)"
   ]
  },
  {
   "cell_type": "code",
   "execution_count": 72,
   "id": "8917a2f5",
   "metadata": {},
   "outputs": [],
   "source": [
    "w=[23,98,79,8,56,45]"
   ]
  },
  {
   "cell_type": "code",
   "execution_count": 73,
   "id": "2dddbe78",
   "metadata": {},
   "outputs": [
    {
     "name": "stdout",
     "output_type": "stream",
     "text": [
      "[23, 98, 79, 8, 56, 45]\n"
     ]
    }
   ],
   "source": [
    "print(w)"
   ]
  },
  {
   "cell_type": "code",
   "execution_count": 74,
   "id": "4d4e13e3",
   "metadata": {},
   "outputs": [
    {
     "name": "stdout",
     "output_type": "stream",
     "text": [
      "{34, 67, 36, 37, 45, 23, 87}\n"
     ]
    }
   ],
   "source": [
    "e = {23,23,45,87,37,87,36,67,34,67}\n",
    "print(e) #sets doesnt take duplicate"
   ]
  },
  {
   "cell_type": "code",
   "execution_count": 101,
   "id": "39b172f3",
   "metadata": {},
   "outputs": [
    {
     "data": {
      "text/plain": [
       "{1: 'raj', 2: 'mark', 3: 'eash'}"
      ]
     },
     "execution_count": 101,
     "metadata": {},
     "output_type": "execute_result"
    }
   ],
   "source": [
    "data = {1:\"raj\",2:'mark',3:'eash'}\n",
    "data"
   ]
  },
  {
   "cell_type": "code",
   "execution_count": 102,
   "id": "c5dd7271",
   "metadata": {},
   "outputs": [],
   "source": [
    "data[3] = \"alaga\""
   ]
  },
  {
   "cell_type": "code",
   "execution_count": 103,
   "id": "e48bfbc5",
   "metadata": {},
   "outputs": [
    {
     "data": {
      "text/plain": [
       "{1: 'raj', 2: 'mark', 3: 'alaga'}"
      ]
     },
     "execution_count": 103,
     "metadata": {},
     "output_type": "execute_result"
    }
   ],
   "source": [
    "data"
   ]
  },
  {
   "cell_type": "code",
   "execution_count": 104,
   "id": "fd2625da",
   "metadata": {},
   "outputs": [],
   "source": [
    "data[4]='eash'"
   ]
  },
  {
   "cell_type": "code",
   "execution_count": 105,
   "id": "156a50ff",
   "metadata": {},
   "outputs": [
    {
     "data": {
      "text/plain": [
       "{1: 'raj', 2: 'mark', 3: 'alaga', 4: 'eash'}"
      ]
     },
     "execution_count": 105,
     "metadata": {},
     "output_type": "execute_result"
    }
   ],
   "source": [
    "data"
   ]
  },
  {
   "cell_type": "code",
   "execution_count": 106,
   "id": "44931931",
   "metadata": {},
   "outputs": [
    {
     "data": {
      "text/plain": [
       "'eash'"
      ]
     },
     "execution_count": 106,
     "metadata": {},
     "output_type": "execute_result"
    }
   ],
   "source": [
    "data.get(4)"
   ]
  },
  {
   "cell_type": "code",
   "execution_count": 107,
   "id": "099bde2a",
   "metadata": {},
   "outputs": [
    {
     "data": {
      "text/plain": [
       "'not found'"
      ]
     },
     "execution_count": 107,
     "metadata": {},
     "output_type": "execute_result"
    }
   ],
   "source": [
    "data.get(5,'not found')"
   ]
  },
  {
   "cell_type": "code",
   "execution_count": 108,
   "id": "050359fa",
   "metadata": {},
   "outputs": [
    {
     "data": {
      "text/plain": [
       "{1: 'raj', 2: 'mark', 3: 'alaga', 4: 'eash'}"
      ]
     },
     "execution_count": 108,
     "metadata": {},
     "output_type": "execute_result"
    }
   ],
   "source": [
    "data"
   ]
  },
  {
   "cell_type": "code",
   "execution_count": 114,
   "id": "855f04c8",
   "metadata": {},
   "outputs": [
    {
     "ename": "KeyError",
     "evalue": "'raj'",
     "output_type": "error",
     "traceback": [
      "\u001b[0;31m---------------------------------------------------------------------------\u001b[0m",
      "\u001b[0;31mKeyError\u001b[0m                                  Traceback (most recent call last)",
      "\u001b[0;32m<ipython-input-114-2d3690633c3d>\u001b[0m in \u001b[0;36m<module>\u001b[0;34m\u001b[0m\n\u001b[0;32m----> 1\u001b[0;31m \u001b[0mdata\u001b[0m\u001b[0;34m[\u001b[0m\u001b[0;34m'raj'\u001b[0m\u001b[0;34m]\u001b[0m\u001b[0;34m\u001b[0m\u001b[0;34m\u001b[0m\u001b[0m\n\u001b[0m",
      "\u001b[0;31mKeyError\u001b[0m: 'raj'"
     ]
    }
   ],
   "source": [
    "data['raj']"
   ]
  },
  {
   "cell_type": "code",
   "execution_count": 111,
   "id": "da8b7efa",
   "metadata": {},
   "outputs": [
    {
     "data": {
      "text/plain": [
       "{1: 'raj', 2: 'mark', 3: 'alaga', 4: 'eash'}"
      ]
     },
     "execution_count": 111,
     "metadata": {},
     "output_type": "execute_result"
    }
   ],
   "source": [
    "data"
   ]
  },
  {
   "cell_type": "code",
   "execution_count": 117,
   "id": "a0e2e595",
   "metadata": {},
   "outputs": [],
   "source": [
    "keys = ['raj','mark','eash','alaga']\n",
    "values = ['leader','manager','analyst','audience']"
   ]
  },
  {
   "cell_type": "code",
   "execution_count": 118,
   "id": "f8a811f7",
   "metadata": {},
   "outputs": [
    {
     "data": {
      "text/plain": [
       "{'raj': 'leader', 'mark': 'manager', 'eash': 'analyst', 'alaga': 'audience'}"
      ]
     },
     "execution_count": 118,
     "metadata": {},
     "output_type": "execute_result"
    }
   ],
   "source": [
    "x= dict(zip(keys,values))\n",
    "x"
   ]
  },
  {
   "cell_type": "code",
   "execution_count": 123,
   "id": "da9a1a95",
   "metadata": {},
   "outputs": [
    {
     "name": "stdout",
     "output_type": "stream",
     "text": [
      "dict_keys(['raj', 'mark', 'eash', 'alaga'])\n",
      "dict_values(['leader', 'manager', 'analyst', 'audience'])\n"
     ]
    }
   ],
   "source": [
    "print(x.keys())\n",
    "print(x.values())"
   ]
  },
  {
   "cell_type": "code",
   "execution_count": 124,
   "id": "1dc799bb",
   "metadata": {},
   "outputs": [
    {
     "name": "stdout",
     "output_type": "stream",
     "text": [
      "raj : leader\n",
      "mark : manager\n",
      "eash : analyst\n",
      "alaga : audience\n"
     ]
    }
   ],
   "source": [
    "for key, value in x.items():\n",
    "    print(key , \":\", value)"
   ]
  },
  {
   "cell_type": "code",
   "execution_count": 125,
   "id": "03e0e899",
   "metadata": {},
   "outputs": [],
   "source": [
    "university = {'JS':'140','CS':'80','CMS':['BA','GM','MKT']}"
   ]
  },
  {
   "cell_type": "code",
   "execution_count": 126,
   "id": "6ad0b234",
   "metadata": {},
   "outputs": [
    {
     "data": {
      "text/plain": [
       "'140'"
      ]
     },
     "execution_count": 126,
     "metadata": {},
     "output_type": "execute_result"
    }
   ],
   "source": [
    "university.get('JS')"
   ]
  },
  {
   "cell_type": "code",
   "execution_count": 127,
   "id": "daf9edde",
   "metadata": {},
   "outputs": [
    {
     "data": {
      "text/plain": [
       "['BA', 'GM', 'MKT']"
      ]
     },
     "execution_count": 127,
     "metadata": {},
     "output_type": "execute_result"
    }
   ],
   "source": [
    "university['CMS']"
   ]
  },
  {
   "cell_type": "code",
   "execution_count": 147,
   "id": "d41641d2",
   "metadata": {},
   "outputs": [
    {
     "data": {
      "text/plain": [
       "{'JS': '140',\n",
       " 'CS': '80',\n",
       " 'CMS': ['BA', 'GM', 'MKT'],\n",
       " 'GAMES': {'CRICKET': '100', 'FOOTBALL': '50', 'CHESS': '23'}}"
      ]
     },
     "execution_count": 147,
     "metadata": {},
     "output_type": "execute_result"
    }
   ],
   "source": [
    "university = {'JS':'140','CS':'80','CMS':['BA','GM','MKT'],'GAMES':{'CRICKET':'100','FOOTBALL':'50','CHESS':'23'}}\n",
    "university"
   ]
  },
  {
   "cell_type": "code",
   "execution_count": 148,
   "id": "d52be0aa",
   "metadata": {},
   "outputs": [
    {
     "data": {
      "text/plain": [
       "'100'"
      ]
     },
     "execution_count": 148,
     "metadata": {},
     "output_type": "execute_result"
    }
   ],
   "source": [
    "university ['GAMES']['CRICKET']"
   ]
  },
  {
   "cell_type": "code",
   "execution_count": 2,
   "id": "4cc6f2ab",
   "metadata": {},
   "outputs": [],
   "source": [
    "import math"
   ]
  },
  {
   "cell_type": "code",
   "execution_count": 3,
   "id": "01238412",
   "metadata": {},
   "outputs": [
    {
     "data": {
      "text/plain": [
       "7.0"
      ]
     },
     "execution_count": 3,
     "metadata": {},
     "output_type": "execute_result"
    }
   ],
   "source": [
    "math.sqrt(49)"
   ]
  },
  {
   "cell_type": "code",
   "execution_count": 4,
   "id": "e6061fd2",
   "metadata": {},
   "outputs": [
    {
     "data": {
      "text/plain": [
       "9.0"
      ]
     },
     "execution_count": 4,
     "metadata": {},
     "output_type": "execute_result"
    }
   ],
   "source": [
    "math.pow(3,2)"
   ]
  },
  {
   "cell_type": "code",
   "execution_count": 5,
   "id": "e7ff42b8",
   "metadata": {},
   "outputs": [
    {
     "name": "stdout",
     "output_type": "stream",
     "text": [
      "3.141592653589793\n"
     ]
    }
   ],
   "source": [
    "print(math.pi)"
   ]
  },
  {
   "cell_type": "code",
   "execution_count": 6,
   "id": "9edbec1a",
   "metadata": {},
   "outputs": [
    {
     "data": {
      "text/plain": [
       "2.718281828459045"
      ]
     },
     "execution_count": 6,
     "metadata": {},
     "output_type": "execute_result"
    }
   ],
   "source": [
    "math.e"
   ]
  },
  {
   "cell_type": "code",
   "execution_count": 7,
   "id": "5ea2b320",
   "metadata": {},
   "outputs": [
    {
     "data": {
      "text/plain": [
       "7.681145747868608"
      ]
     },
     "execution_count": 7,
     "metadata": {},
     "output_type": "execute_result"
    }
   ],
   "source": [
    "x=math.sqrt(59)\n",
    "x"
   ]
  },
  {
   "cell_type": "code",
   "execution_count": 8,
   "id": "858f8eb1",
   "metadata": {},
   "outputs": [
    {
     "data": {
      "text/plain": [
       "8"
      ]
     },
     "execution_count": 8,
     "metadata": {},
     "output_type": "execute_result"
    }
   ],
   "source": [
    "x=round(math.sqrt(59))\n",
    "x"
   ]
  },
  {
   "cell_type": "code",
   "execution_count": 9,
   "id": "1ff8d89c",
   "metadata": {},
   "outputs": [
    {
     "data": {
      "text/plain": [
       "7.681145747868608"
      ]
     },
     "execution_count": 9,
     "metadata": {},
     "output_type": "execute_result"
    }
   ],
   "source": [
    "x=math.sqrt(59)\n",
    "x"
   ]
  },
  {
   "cell_type": "code",
   "execution_count": 10,
   "id": "6dbfb624",
   "metadata": {},
   "outputs": [
    {
     "name": "stdout",
     "output_type": "stream",
     "text": [
      "7\n"
     ]
    }
   ],
   "source": [
    "x=round(math.sqrt(56))\n",
    "print(math.floor(x))"
   ]
  },
  {
   "cell_type": "code",
   "execution_count": 11,
   "id": "9cff9360",
   "metadata": {},
   "outputs": [
    {
     "name": "stdout",
     "output_type": "stream",
     "text": [
      "8\n"
     ]
    }
   ],
   "source": [
    "x=round(math.sqrt(58\n",
    "                 ))\n",
    "print(math.ceil(x))"
   ]
  },
  {
   "cell_type": "code",
   "execution_count": 12,
   "id": "b03d411c",
   "metadata": {},
   "outputs": [
    {
     "data": {
      "text/plain": [
       "8"
      ]
     },
     "execution_count": 12,
     "metadata": {},
     "output_type": "execute_result"
    }
   ],
   "source": [
    "x=2**3\n",
    "x"
   ]
  },
  {
   "cell_type": "code",
   "execution_count": 13,
   "id": "3c99b403",
   "metadata": {},
   "outputs": [
    {
     "data": {
      "text/plain": [
       "1024"
      ]
     },
     "execution_count": 13,
     "metadata": {},
     "output_type": "execute_result"
    }
   ],
   "source": [
    "pow(4,5)"
   ]
  },
  {
   "cell_type": "code",
   "execution_count": 18,
   "id": "2c18e3e5",
   "metadata": {},
   "outputs": [],
   "source": [
    "import math as m"
   ]
  },
  {
   "cell_type": "code",
   "execution_count": 19,
   "id": "3c86fefb",
   "metadata": {},
   "outputs": [
    {
     "data": {
      "text/plain": [
       "8.0"
      ]
     },
     "execution_count": 19,
     "metadata": {},
     "output_type": "execute_result"
    }
   ],
   "source": [
    "x=m.sqrt(64)\n",
    "x"
   ]
  },
  {
   "cell_type": "code",
   "execution_count": 20,
   "id": "a752ec00",
   "metadata": {},
   "outputs": [
    {
     "ename": "AttributeError",
     "evalue": "'float' object has no attribute 'sqrt'",
     "output_type": "error",
     "traceback": [
      "\u001b[0;31m---------------------------------------------------------------------------\u001b[0m",
      "\u001b[0;31mAttributeError\u001b[0m                            Traceback (most recent call last)",
      "\u001b[0;32m<ipython-input-20-5f34a0bde0e4>\u001b[0m in \u001b[0;36m<module>\u001b[0;34m\u001b[0m\n\u001b[0;32m----> 1\u001b[0;31m \u001b[0mx\u001b[0m\u001b[0;34m=\u001b[0m\u001b[0mround\u001b[0m\u001b[0;34m(\u001b[0m\u001b[0mx\u001b[0m\u001b[0;34m.\u001b[0m\u001b[0msqrt\u001b[0m\u001b[0;34m(\u001b[0m\u001b[0;36m59\u001b[0m\u001b[0;34m)\u001b[0m\u001b[0;34m,\u001b[0m\u001b[0;36m2\u001b[0m\u001b[0;34m)\u001b[0m\u001b[0;34m\u001b[0m\u001b[0;34m\u001b[0m\u001b[0m\n\u001b[0m\u001b[1;32m      2\u001b[0m \u001b[0mx\u001b[0m\u001b[0;34m\u001b[0m\u001b[0;34m\u001b[0m\u001b[0m\n",
      "\u001b[0;31mAttributeError\u001b[0m: 'float' object has no attribute 'sqrt'"
     ]
    }
   ],
   "source": [
    "x=round(x.sqrt(59),2)\n",
    "x"
   ]
  },
  {
   "cell_type": "code",
   "execution_count": 21,
   "id": "5817d10a",
   "metadata": {},
   "outputs": [
    {
     "data": {
      "text/plain": [
       "49.0"
      ]
     },
     "execution_count": 21,
     "metadata": {},
     "output_type": "execute_result"
    }
   ],
   "source": [
    "x=pow(m.sqrt(49),2)\n",
    "x"
   ]
  },
  {
   "cell_type": "code",
   "execution_count": 2,
   "id": "338e4ef9",
   "metadata": {},
   "outputs": [
    {
     "name": "stdout",
     "output_type": "stream",
     "text": [
      "enter 1st number3\n",
      "enter 2nd number6\n",
      "9\n"
     ]
    }
   ],
   "source": [
    "x = int(input('enter 1st number'))\n",
    "y = int(input('enter 2nd number'))\n",
    "d= x+y\n",
    "print(d)"
   ]
  },
  {
   "cell_type": "code",
   "execution_count": 3,
   "id": "e7cff75d",
   "metadata": {},
   "outputs": [
    {
     "name": "stdout",
     "output_type": "stream",
     "text": [
      "enter an expression4+3\n",
      "7\n"
     ]
    }
   ],
   "source": [
    "result = eval (input('enter an expression'))\n",
    "print(result)"
   ]
  },
  {
   "cell_type": "code",
   "execution_count": 4,
   "id": "7960c946",
   "metadata": {},
   "outputs": [
    {
     "name": "stdout",
     "output_type": "stream",
     "text": [
      "enter the char2+3-9\n",
      "2+3-9\n"
     ]
    }
   ],
   "source": [
    "ch = input('enter the char')\n",
    "ch [0]\n",
    "print(ch)"
   ]
  },
  {
   "cell_type": "code",
   "execution_count": 5,
   "id": "753250bb",
   "metadata": {},
   "outputs": [
    {
     "name": "stdout",
     "output_type": "stream",
     "text": [
      "enter a character3+4-3\n",
      "4\n"
     ]
    }
   ],
   "source": [
    "ch = input('enter a character')\n",
    "print(ch[2])"
   ]
  },
  {
   "cell_type": "code",
   "execution_count": 9,
   "id": "31c189a3",
   "metadata": {},
   "outputs": [
    {
     "name": "stdout",
     "output_type": "stream",
     "text": [
      " iam vel\n"
     ]
    }
   ],
   "source": [
    "x = 3\n",
    "r = x%2\n",
    "\n",
    "if r == 0:\n",
    "    print (' iam raj')\n",
    "if r == 1:\n",
    "    print(' iam vel')"
   ]
  },
  {
   "cell_type": "code",
   "execution_count": 10,
   "id": "08e08531",
   "metadata": {},
   "outputs": [
    {
     "name": "stdout",
     "output_type": "stream",
     "text": [
      "enter the value :34\n",
      "i am raj\n"
     ]
    }
   ],
   "source": [
    "x = int(input('enter the value :'))\n",
    "r = x%2\n",
    "\n",
    "if r == 0:\n",
    "    print('i am raj')\n",
    "if r == 1:\n",
    "    print(' i am vel')"
   ]
  },
  {
   "cell_type": "code",
   "execution_count": 11,
   "id": "5f598b44",
   "metadata": {},
   "outputs": [
    {
     "name": "stdout",
     "output_type": "stream",
     "text": [
      "enter the value :10\n",
      "i am raj\n",
      "not executable\n"
     ]
    }
   ],
   "source": [
    "x = int(input('enter the value :'))\n",
    "r = x%2\n",
    "\n",
    "if r == 0:\n",
    "    print('i am raj')\n",
    "if x>5:\n",
    "    print('not executable')\n",
    "if r == 1:\n",
    "    print(' i am vel')"
   ]
  },
  {
   "cell_type": "code",
   "execution_count": 13,
   "id": "b5055a5e",
   "metadata": {},
   "outputs": [
    {
     "ename": "SyntaxError",
     "evalue": "invalid syntax (<ipython-input-13-29c1503c8cd2>, line 5)",
     "output_type": "error",
     "traceback": [
      "\u001b[0;36m  File \u001b[0;32m\"<ipython-input-13-29c1503c8cd2>\"\u001b[0;36m, line \u001b[0;32m5\u001b[0m\n\u001b[0;31m    if == x%2\u001b[0m\n\u001b[0m       ^\u001b[0m\n\u001b[0;31mSyntaxError\u001b[0m\u001b[0;31m:\u001b[0m invalid syntax\n"
     ]
    }
   ],
   "source": [
    "x = int(input('enter the number :'))\n",
    "if x > 10 :\n",
    "    print('enter the value less than 10')\n",
    "    \n",
    "if == x%2\n",
    "\n",
    "if r == 0:\n",
    "    print(' iam raj')#even\n",
    "if r == 1:\n",
    "    print(' iam vel')#odd"
   ]
  },
  {
   "cell_type": "code",
   "execution_count": 14,
   "id": "cace537e",
   "metadata": {},
   "outputs": [
    {
     "name": "stdout",
     "output_type": "stream",
     "text": [
      "enter the number :10\n",
      "non executable\n"
     ]
    }
   ],
   "source": [
    "x = int(input('enter the number :'))\n",
    "r = x%2\n",
    "if r<0:\n",
    "    print(' i am')\n",
    "if x >=10:\n",
    "    print('non executable')\n",
    "else:\n",
    "    print(' iam not')"
   ]
  },
  {
   "cell_type": "code",
   "execution_count": 15,
   "id": "0c1c1144",
   "metadata": {},
   "outputs": [
    {
     "name": "stdout",
     "output_type": "stream",
     "text": [
      "python\n",
      "python\n",
      "python\n",
      "python\n",
      "python\n",
      "python\n"
     ]
    }
   ],
   "source": [
    "#while loop\n",
    "print('python')\n",
    "print('python')\n",
    "print('python')\n",
    "print('python')\n",
    "print('python')\n",
    "print('python')"
   ]
  },
  {
   "cell_type": "code",
   "execution_count": 16,
   "id": "51751b94",
   "metadata": {},
   "outputs": [
    {
     "name": "stdout",
     "output_type": "stream",
     "text": [
      "python\n",
      "python\n",
      "python\n",
      "python\n",
      "python\n",
      "python\n",
      "python\n",
      "python\n",
      "python\n",
      "python\n"
     ]
    }
   ],
   "source": [
    "i = 1\n",
    "while i <= 10:\n",
    "    print('python')\n",
    "    i = i+1"
   ]
  },
  {
   "cell_type": "code",
   "execution_count": 20,
   "id": "7929dee0",
   "metadata": {},
   "outputs": [
    {
     "name": "stdout",
     "output_type": "stream",
     "text": [
      "python 10\n",
      "python 9\n",
      "python 8\n",
      "python 7\n",
      "python 6\n",
      "python 5\n",
      "python 4\n",
      "python 3\n",
      "python 2\n",
      "python 1\n"
     ]
    }
   ],
   "source": [
    "i = 10\n",
    "while i >= 1:\n",
    "    print('python',i)\n",
    "    i = i-1"
   ]
  },
  {
   "cell_type": "code",
   "execution_count": 10,
   "id": "5042ea58",
   "metadata": {},
   "outputs": [
    {
     "name": "stdout",
     "output_type": "stream",
     "text": [
      "rajrajrajrajsankarsankarsankar"
     ]
    }
   ],
   "source": [
    "i=2\n",
    "j=2\n",
    "while i<=5:\n",
    "    print('raj',end=\"\")\n",
    "    i=i+1\n",
    "    \n",
    "while j<=4:\n",
    "    print('sankar',end=\"\")\n",
    "    j=j+1"
   ]
  },
  {
   "cell_type": "code",
   "execution_count": 14,
   "id": "f1524450",
   "metadata": {},
   "outputs": [
    {
     "name": "stdout",
     "output_type": "stream",
     "text": [
      "Raj sankar\n",
      "Raj sankar\n",
      "Raj sankar\n"
     ]
    }
   ],
   "source": [
    "i = 1\n",
    "while (i<=3):\n",
    "    while True:\n",
    "        print(\"Raj\", end= \" \") \n",
    "        break\n",
    "    print(\"sankar\\n\", end = \"\")\n",
    "    i +=1"
   ]
  },
  {
   "cell_type": "code",
   "execution_count": 15,
   "id": "9e524220",
   "metadata": {},
   "outputs": [
    {
     "name": "stdout",
     "output_type": "stream",
     "text": [
      "['raj', 75, 9.8]\n"
     ]
    }
   ],
   "source": [
    "x = ['raj',75,9.8]\n",
    "print(x)"
   ]
  },
  {
   "cell_type": "code",
   "execution_count": 16,
   "id": "24617391",
   "metadata": {},
   "outputs": [
    {
     "name": "stdout",
     "output_type": "stream",
     "text": [
      "raj\n",
      "75\n",
      "9.8\n"
     ]
    }
   ],
   "source": [
    "x=['raj',75,9.8]\n",
    "for i in x:\n",
    "    print(i)"
   ]
  },
  {
   "cell_type": "code",
   "execution_count": 17,
   "id": "be48c1f9",
   "metadata": {},
   "outputs": [
    {
     "name": "stdout",
     "output_type": "stream",
     "text": [
      "r\n",
      "a\n",
      "j\n"
     ]
    }
   ],
   "source": [
    "x='raj'\n",
    "for i in x:\n",
    "    print(i)"
   ]
  },
  {
   "cell_type": "code",
   "execution_count": 21,
   "id": "76a61389",
   "metadata": {},
   "outputs": [
    {
     "name": "stdout",
     "output_type": "stream",
     "text": [
      "raj\n",
      "75\n",
      "9.8\n"
     ]
    }
   ],
   "source": [
    "x = {'raj',75,9.8,75} #sets doesnt take duplicate\n",
    "for i in x:\n",
    "    print(i)"
   ]
  },
  {
   "cell_type": "code",
   "execution_count": 23,
   "id": "5ea9cf4d",
   "metadata": {},
   "outputs": [
    {
     "name": "stdout",
     "output_type": "stream",
     "text": [
      "0\n",
      "1\n",
      "2\n",
      "3\n",
      "4\n",
      "5\n",
      "6\n",
      "7\n",
      "8\n",
      "9\n"
     ]
    }
   ],
   "source": [
    "for i in range(10):\n",
    "    print(i)"
   ]
  },
  {
   "cell_type": "code",
   "execution_count": 30,
   "id": "d4e4a5fa",
   "metadata": {},
   "outputs": [
    {
     "name": "stdout",
     "output_type": "stream",
     "text": [
      "11\n",
      "12\n",
      "13\n",
      "14\n",
      "15\n",
      "16\n",
      "17\n",
      "18\n",
      "19\n",
      "20\n"
     ]
    }
   ],
   "source": [
    "for i in range(11,21,1):\n",
    "    print(i)"
   ]
  },
  {
   "cell_type": "code",
   "execution_count": 22,
   "id": "748fa95d",
   "metadata": {},
   "outputs": [
    {
     "name": "stdout",
     "output_type": "stream",
     "text": [
      "0 2 4 6 8 10 12 14 16 18 "
     ]
    }
   ],
   "source": [
    "for i in range(20):\n",
    "    if i%2==0:\n",
    "        print(i ,end=\" \")"
   ]
  },
  {
   "cell_type": "code",
   "execution_count": 23,
   "id": "c11f5cc7",
   "metadata": {},
   "outputs": [
    {
     "name": "stdout",
     "output_type": "stream",
     "text": [
      "10 10.5\n",
      "11 11.5\n",
      "12 12.5\n",
      "13 13.5\n",
      "14 14.5\n",
      "15 15.5\n"
     ]
    }
   ],
   "source": [
    "for i in range(10,16):\n",
    "    print(i,i+0.5)\n"
   ]
  },
  {
   "cell_type": "code",
   "execution_count": 31,
   "id": "77feca7f",
   "metadata": {},
   "outputs": [
    {
     "ename": "TypeError",
     "evalue": "'float' object cannot be interpreted as an integer",
     "output_type": "error",
     "traceback": [
      "\u001b[0;31m---------------------------------------------------------------------------\u001b[0m",
      "\u001b[0;31mTypeError\u001b[0m                                 Traceback (most recent call last)",
      "\u001b[0;32m<ipython-input-31-54a92adbcc44>\u001b[0m in \u001b[0;36m<module>\u001b[0;34m\u001b[0m\n\u001b[0;32m----> 1\u001b[0;31m \u001b[0;32mfor\u001b[0m \u001b[0mi\u001b[0m \u001b[0;32min\u001b[0m \u001b[0mrange\u001b[0m\u001b[0;34m(\u001b[0m\u001b[0;36m11\u001b[0m\u001b[0;34m,\u001b[0m\u001b[0;36m21\u001b[0m\u001b[0;34m,\u001b[0m\u001b[0;36m0.5\u001b[0m\u001b[0;34m)\u001b[0m\u001b[0;34m:\u001b[0m\u001b[0;34m\u001b[0m\u001b[0;34m\u001b[0m\u001b[0m\n\u001b[0m\u001b[1;32m      2\u001b[0m     \u001b[0mprint\u001b[0m\u001b[0;34m(\u001b[0m\u001b[0mi\u001b[0m\u001b[0;34m)\u001b[0m\u001b[0;34m\u001b[0m\u001b[0;34m\u001b[0m\u001b[0m\n",
      "\u001b[0;31mTypeError\u001b[0m: 'float' object cannot be interpreted as an integer"
     ]
    }
   ],
   "source": [
    "for i in range(11,21,0.5):\n",
    "    print(i)"
   ]
  },
  {
   "cell_type": "code",
   "execution_count": 32,
   "id": "09607a4b",
   "metadata": {},
   "outputs": [
    {
     "name": "stdout",
     "output_type": "stream",
     "text": [
      "11.0\n",
      "11.5\n",
      "12.0\n",
      "12.5\n",
      "13.0\n",
      "13.5\n",
      "14.0\n",
      "14.5\n",
      "15.0\n",
      "15.5\n",
      "16.0\n",
      "16.5\n",
      "17.0\n",
      "17.5\n",
      "18.0\n",
      "18.5\n",
      "19.0\n",
      "19.5\n",
      "20.0\n",
      "20.5\n"
     ]
    }
   ],
   "source": [
    "import numpy as np\n",
    "for i in np.arange(11,21,0.5):\n",
    "    print(i)"
   ]
  },
  {
   "cell_type": "code",
   "execution_count": 33,
   "id": "8a3a6598",
   "metadata": {},
   "outputs": [
    {
     "name": "stdout",
     "output_type": "stream",
     "text": [
      "20\n",
      "19\n",
      "18\n",
      "17\n",
      "16\n",
      "15\n",
      "14\n",
      "13\n",
      "12\n",
      "11\n"
     ]
    }
   ],
   "source": [
    "for i in range(20,10,-1):\n",
    "    print(i)"
   ]
  },
  {
   "cell_type": "code",
   "execution_count": 36,
   "id": "50c95923",
   "metadata": {},
   "outputs": [
    {
     "name": "stdout",
     "output_type": "stream",
     "text": [
      "10\n",
      "10.5\n",
      "11\n",
      "11.5\n",
      "12\n",
      "12.5\n",
      "13\n",
      "13.5\n",
      "14\n",
      "14.5\n",
      "15\n",
      "15.5\n",
      "16\n",
      "16.5\n",
      "17\n",
      "17.5\n",
      "18\n",
      "18.5\n",
      "19\n",
      "19.5\n",
      "20\n",
      "20.5\n"
     ]
    }
   ],
   "source": [
    "for i in range(10,21):\n",
    "    print(i)\n",
    "    print(i+0.5)"
   ]
  },
  {
   "cell_type": "code",
   "execution_count": null,
   "id": "dfbc88e8",
   "metadata": {},
   "outputs": [],
   "source": []
  }
 ],
 "metadata": {
  "kernelspec": {
   "display_name": "Python 3",
   "language": "python",
   "name": "python3"
  },
  "language_info": {
   "codemirror_mode": {
    "name": "ipython",
    "version": 3
   },
   "file_extension": ".py",
   "mimetype": "text/x-python",
   "name": "python",
   "nbconvert_exporter": "python",
   "pygments_lexer": "ipython3",
   "version": "3.8.8"
  }
 },
 "nbformat": 4,
 "nbformat_minor": 5
}
